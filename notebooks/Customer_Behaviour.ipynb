{
  "nbformat": 4,
  "nbformat_minor": 0,
  "metadata": {
    "colab": {
      "provenance": []
    },
    "kernelspec": {
      "name": "python3",
      "display_name": "Python 3"
    },
    "language_info": {
      "name": "python"
    }
  },
  "cells": [
    {
      "cell_type": "markdown",
      "source": [
        "# Analysing the customer Behaviour\n",
        "\n",
        "Customer behavior here means the customers habit of buying food and drink. Is the any bias twards buying juice along with food. i.e., does he/she like the juice along with the food only?\n",
        "\n",
        "- How many juice was sold before opening food section (before evening) and its percentage.\n",
        "- How many juice went along with food after opening food section.\n",
        "- How many juice went along with shawarma & its percentage."
      ],
      "metadata": {
        "id": "AcWMt7lctxCz"
      }
    },
    {
      "cell_type": "markdown",
      "source": [
        "##Importing necessary packages and mounting drive and authorizing"
      ],
      "metadata": {
        "id": "w8DQT7a1xPTR"
      }
    },
    {
      "cell_type": "code",
      "execution_count": null,
      "metadata": {
        "colab": {
          "base_uri": "https://localhost:8080/"
        },
        "id": "X0BxoYU8tj2z",
        "outputId": "a053aec1-29d0-4bfc-e6ea-088681e7b398"
      },
      "outputs": [
        {
          "output_type": "stream",
          "name": "stdout",
          "text": [
            "Drive already mounted at /content/gdrive/; to attempt to forcibly remount, call drive.mount(\"/content/gdrive/\", force_remount=True).\n"
          ]
        }
      ],
      "source": [
        "## mounting drive\n",
        "from google.colab import drive\n",
        "drive.mount('/content/gdrive/')"
      ]
    },
    {
      "cell_type": "code",
      "source": [
        "## authenticating drive to get file names\n",
        "from google.colab import auth\n",
        "auth.authenticate_user()"
      ],
      "metadata": {
        "id": "aJy-oEmqv_TM"
      },
      "execution_count": null,
      "outputs": []
    },
    {
      "cell_type": "code",
      "source": [
        "## Importing gspread to read google sheets\n",
        "\n",
        "import gspread\n",
        "from google.auth import default\n",
        "\n",
        "creds,_ = default()\n",
        "gc = gspread.authorize(creds)"
      ],
      "metadata": {
        "id": "aAFhU8CTwMY4"
      },
      "execution_count": null,
      "outputs": []
    },
    {
      "cell_type": "code",
      "source": [
        "import subprocess as sp\n",
        "import pandas as pd\n",
        "import numpy as np"
      ],
      "metadata": {
        "id": "v9vLbl2ixIna"
      },
      "execution_count": null,
      "outputs": []
    },
    {
      "cell_type": "markdown",
      "source": [
        "## Getting file names"
      ],
      "metadata": {
        "id": "A-Mlgf-Fxfuv"
      }
    },
    {
      "cell_type": "code",
      "source": [
        "months = ['November','December','January']\n",
        "files = []\n",
        "for month in months:\n",
        "  files = files + sp.getoutput(f'ls \"/content/gdrive/MyDrive/Avocado Analysis/Data sheets/{month}\"').split('\\n')\n",
        "files = [file.split('.')[0] for file in files]  ## removing the .gsheet extension\n",
        "print(\"There are \",len(files),\"files\")\n",
        "print(files)"
      ],
      "metadata": {
        "colab": {
          "base_uri": "https://localhost:8080/"
        },
        "id": "ieG0U60PxjS3",
        "outputId": "9a62fe91-8c6c-4a40-bdc5-06601f4c52a4"
      },
      "execution_count": null,
      "outputs": [
        {
          "output_type": "stream",
          "name": "stdout",
          "text": [
            "There are  84 files\n",
            "['10_11', '11_11', '1_11', '12_11', '13_11', '14_11', '15_11', '16_11', '17_11', '18_11', '19_11', '20_11', '21_11', '2_11', '22_11', '23_11', '24_11', '25_11', '26_11', '27_11', '28_11', '29_11', '30_11', '3_11', '4_11', '5_11', '6_11', '7_11', '8_11', '9_11', '10_12', '11_12', '1_12', '16_12', '17_12', '18_12', '19_12', '20_12', '21_12', '2_12', '22_12', '23_12', '24_12', '25_12', '26_12', '29_12', '31_12', '3_12', '4_12', '6_12', '7_12', '8_12', '9_12', '10_1', '11_1', '1_1', '12_1', '13_1', '14_1', '15_1', '16_1', '17_1', '18_1', '19_1', '20_1', '21_1', '2_1', '22_1', '23_1', '24_1', '25_1', '26_1', '27_1', '28_1', '29_1', '30_1', '31_1', '3_1', '4_1', '5_1', '6_1', '7_1', '8_1', '9_1']\n"
          ]
        }
      ]
    },
    {
      "cell_type": "markdown",
      "source": [
        "## Extracting Behaviour pattern"
      ],
      "metadata": {
        "id": "frUDHRnWy0eB"
      }
    },
    {
      "cell_type": "code",
      "source": [
        "## finding the starting point(row) of food section\n",
        "def findFoodStart(lst):\n",
        "  for i in range(len(lst)):\n",
        "    if lst[i]>0:\n",
        "      return i\n",
        "\n",
        "## Function for extracting the behaviour within a day\n",
        "def behaviourInADay(date):\n",
        "  if date in ['1_11','2_11','23_11','25_11','2_12','8_12','9_12','21_12']: ## Outliers shop only partially open\n",
        "    return None\n",
        "  try:\n",
        "    beh={}\n",
        "    beh['Date'] = date\n",
        "    data = pd.DataFrame(gc.open(date).sheet1.get_all_records())  ## returns pandass DataFrame\n",
        "    data.drop('-\\n',axis = 'columns',inplace=True)\n",
        "    for i in [0,1,2,3,4,6,8,10,12]:   ## type converting columns to int for ease of calculations\n",
        "      data.iloc[:,i] = pd.to_numeric(data.iloc[:,i])\n",
        "\n",
        "    data['Drinks_sum'] = data.iloc[:,[4,6,8,10,12]].sum(axis=1)\n",
        "    data['Food_sum'] = data.iloc[:,0:4].sum(axis=1)\n",
        "\n",
        "    data = data[data.iloc[:,[14,15]].sum(axis = 1) > 0] ## removing empty columns\n",
        "\n",
        "    data['Drinks_only'] = np.where(data.Drinks_sum>data.Food_sum,data.Drinks_sum-data.Food_sum,0)\n",
        "    data['DrinkWithFood'] = data.Drinks_sum - data.Drinks_only\n",
        "\n",
        "    food_start  = findFoodStart(list(data.Food_sum))\n",
        "\n",
        "    beh['Drinks_FN'] = sum(list(data.Drinks_sum)[:food_start])\n",
        "    beh['Drinks_only'] = sum(list(data.Drinks_only)[food_start:])\n",
        "    beh['DrinksWithFood'] = sum(list(data.DrinkWithFood)[food_start:])\n",
        "  except Exception as e:\n",
        "    print(date,\" Error : \",e)\n",
        "    return None\n",
        "  return beh\n",
        "\n"
      ],
      "metadata": {
        "id": "UQOgnGLuy-9a"
      },
      "execution_count": null,
      "outputs": []
    },
    {
      "cell_type": "code",
      "source": [
        "\n",
        "behaviour_data = pd.DataFrame(columns = ['Date','Drinks_FN','Drinks_only','DrinksWithFood'])\n",
        "for month in ['_11','_12','_1']:\n",
        "  for day in range(1,32):\n",
        "    if month == '_1' and day >19:\n",
        "      break\n",
        "    date = str(day)+month\n",
        "    if date in files:\n",
        "      new_row = behaviourInADay(date)\n",
        "      if new_row != None:\n",
        "        behaviour_data = behaviour_data.append(new_row,ignore_index =True)\n",
        "print(behaviour_data.shape)"
      ],
      "metadata": {
        "colab": {
          "base_uri": "https://localhost:8080/"
        },
        "id": "-0lC7sd2zHvR",
        "outputId": "08fba95b-9822-4f6f-c223-a2253182a6ed"
      },
      "execution_count": null,
      "outputs": [
        {
          "output_type": "stream",
          "name": "stderr",
          "text": [
            "/usr/local/lib/python3.7/dist-packages/ipykernel_launcher.py:22: FutureWarning: Dropping of nuisance columns in DataFrame reductions (with 'numeric_only=None') is deprecated; in a future version this will raise TypeError.  Select only valid columns before calling the reduction.\n"
          ]
        },
        {
          "output_type": "stream",
          "name": "stdout",
          "text": [
            "3_1  Error :  Unable to parse string \"i\" at position 50\n",
            "(63, 4)\n"
          ]
        }
      ]
    },
    {
      "cell_type": "markdown",
      "source": [
        "## Saving the behaviour pattern in csv file"
      ],
      "metadata": {
        "id": "XagFb_n6zZf9"
      }
    },
    {
      "cell_type": "code",
      "source": [
        "## Saving the aggregate data  to drive\n",
        "path =  \"/content/gdrive/MyDrive/Avocado Analysis/Calculations/Behaviour.csv\"\n",
        "with open(path, 'w', encoding = 'utf-8-sig') as f:\n",
        "  behaviour_data.to_csv(f)"
      ],
      "metadata": {
        "id": "caLshK3mzfCl"
      },
      "execution_count": null,
      "outputs": []
    }
  ]
}